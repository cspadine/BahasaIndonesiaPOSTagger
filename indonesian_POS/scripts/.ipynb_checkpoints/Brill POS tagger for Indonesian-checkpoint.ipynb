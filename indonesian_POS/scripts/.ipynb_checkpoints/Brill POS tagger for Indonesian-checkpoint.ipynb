{
 "cells": [
  {
   "cell_type": "code",
   "execution_count": 1,
   "metadata": {},
   "outputs": [],
   "source": [
    "from conllu import parse\n",
    "\n",
    "file = open('../../UD_Indonesian-GSD/id_gsd-ud-train.conllu', 'r')\n",
    "f = file.read()\n",
    "file.close()\n",
    "\n",
    "training_data = []\n",
    "\n",
    "sentences = parse(f)\n",
    "\n",
    "for sentence in sentences:\n",
    "    tagged_sentence = []\n",
    "    for token in sentence:\n",
    "        tagged_sentence.append((token['form'],token['upos']))\n",
    "    training_data.append(tagged_sentence)\n",
    "    \n",
    "    \n",
    "    \n",
    "test_file = open('../../UD_Indonesian-GSD/id_gsd-ud-test.conllu', 'r')\n",
    "test_f = test_file.read()\n",
    "test_file.close()\n",
    "\n",
    "test_sentences = parse(test_f)\n",
    "\n",
    "test_data = []\n",
    "\n",
    "for sentence in test_sentences:\n",
    "    tagged_sentence = []\n",
    "    for token in sentence:\n",
    "        tagged_sentence.append((token['form'],token['upos']))\n",
    "    test_data.append(tagged_sentence)"
   ]
  },
  {
   "cell_type": "code",
   "execution_count": 10,
   "metadata": {},
   "outputs": [
    {
     "name": "stdout",
     "output_type": "stream",
     "text": [
      "Unigram tagger accuracy: 0.8404074702886248\n",
      "Bigram tagger accuracy: 0.8400679117147708\n"
     ]
    }
   ],
   "source": [
    "import nltk\n",
    "\n",
    "default_tagger = nltk.DefaultTagger('NOUN')\n",
    "\n",
    "unigram_tagger = nltk.UnigramTagger(training_data, backoff=default_tagger)\n",
    "unigram_tagger_accuracy = unigram_tagger.evaluate(test_data)\n",
    "\n",
    "print('Unigram tagger accuracy: ' + str(unigram_tagger_accuracy))\n",
    "\n",
    "bigram_tagger = nltk.BigramTagger(training_data, backoff=unigram_tagger)\n",
    "bigram_tagger_accuracy = bigram_tagger.evaluate(test_data)\n",
    "\n",
    "print('Bigram tagger accuracy: ' + str(bigram_tagger_accuracy))"
   ]
  },
  {
   "cell_type": "code",
   "execution_count": 11,
   "metadata": {},
   "outputs": [],
   "source": [
    "from nltk.tag import brill, brill_trainer\n",
    "def train_brill_tagger(initial_tagger, train_sents):\n",
    "    templates = [\n",
    "    brill.Template(brill.Pos([-1])),\n",
    "    brill.Template(brill.Pos([1])),\n",
    "    brill.Template(brill.Pos([-2])),\n",
    "    brill.Template(brill.Pos([2])),\n",
    "    brill.Template(brill.Pos([-2, -1])),\n",
    "    brill.Template(brill.Pos([1, 2])),\n",
    "    brill.Template(brill.Pos([-3, -2, -1])),\n",
    "    brill.Template(brill.Pos([1, 2, 3])),\n",
    "    brill.Template(brill.Pos([-1]), brill.Pos([1])),\n",
    "    brill.Template(brill.Word([-1])),\n",
    "    brill.Template(brill.Word([1])),\n",
    "    brill.Template(brill.Word([-2])),\n",
    "    brill.Template(brill.Word([2])),\n",
    "    brill.Template(brill.Word([-2, -1])),\n",
    "    brill.Template(brill.Word([1, 2])),\n",
    "    brill.Template(brill.Word([-3, -2, -1])),\n",
    "    brill.Template(brill.Word([1, 2, 3])),\n",
    "    brill.Template(brill.Word([-1]), brill.Word([1])),\n",
    "    ]\n",
    "    trainer = brill_trainer.BrillTaggerTrainer(initial_tagger,\n",
    "templates, deterministic=True)\n",
    "    return trainer.train(train_sents, **kwargs)\n"
   ]
  },
  {
   "cell_type": "code",
   "execution_count": 19,
   "metadata": {},
   "outputs": [
    {
     "data": {
      "text/plain": [
       "0.8418505942275042"
      ]
     },
     "execution_count": 19,
     "metadata": {},
     "output_type": "execute_result"
    }
   ],
   "source": [
    "brill_tagger = train_brill_tagger(unigram_tagger, training_data)\n",
    "brill_tagger.evaluate(test_data)"
   ]
  },
  {
   "cell_type": "code",
   "execution_count": 20,
   "metadata": {},
   "outputs": [
    {
     "name": "stdout",
     "output_type": "stream",
     "text": [
      "TEMPLATE STATISTICS (TRAIN)  11 templates, 185 rules)\n",
      "TRAIN (  97531 tokens) initial  4150 0.9574 final:  3672 0.9624 \n",
      "#ID | Score (train) |  #Rules     | Template\n",
      "--------------------------------------------\n",
      "081 |   109   0.228 |  37   0.200 | Template(Word([-1]))\n",
      "082 |    84   0.176 |  21   0.114 | Template(Word([1]))\n",
      "087 |    60   0.126 |  28   0.151 | Template(Word([-3, -2, -1]))\n",
      "088 |    49   0.103 |  23   0.124 | Template(Word([1, 2, 3]))\n",
      "080 |    49   0.103 |  19   0.103 | Template(Pos([-1]),Pos([1]))\n",
      "089 |    48   0.100 |  22   0.119 | Template(Word([-1]),Word([1]))\n",
      "084 |    27   0.056 |  12   0.065 | Template(Word([2]))\n",
      "083 |    27   0.056 |  11   0.059 | Template(Word([-2]))\n",
      "086 |    17   0.036 |   8   0.043 | Template(Word([1, 2]))\n",
      "085 |     6   0.013 |   3   0.016 | Template(Word([-2, -1]))\n",
      "075 |     2   0.004 |   1   0.005 | Template(Pos([2]))\n",
      "\n",
      "UNUSED TEMPLATES (79)\n",
      "000 Template(Pos([-1]))\n",
      "001 Template(Pos([1]))\n",
      "002 Template(Pos([-2]))\n",
      "003 Template(Pos([2]))\n",
      "004 Template(Pos([-2, -1]))\n",
      "005 Template(Pos([1, 2]))\n",
      "006 Template(Pos([-3, -2, -1]))\n",
      "007 Template(Pos([1, 2, 3]))\n",
      "008 Template(Pos([-1]),Pos([1]))\n",
      "009 Template(Word([-1]))\n",
      "010 Template(Word([1]))\n",
      "011 Template(Word([-2]))\n",
      "012 Template(Word([2]))\n",
      "013 Template(Word([-2, -1]))\n",
      "014 Template(Word([1, 2]))\n",
      "015 Template(Word([-3, -2, -1]))\n",
      "016 Template(Word([1, 2, 3]))\n",
      "017 Template(Word([-1]),Word([1]))\n",
      "018 Template(Pos([-1]))\n",
      "019 Template(Pos([1]))\n",
      "020 Template(Pos([-2]))\n",
      "021 Template(Pos([2]))\n",
      "022 Template(Pos([-2, -1]))\n",
      "023 Template(Pos([1, 2]))\n",
      "024 Template(Pos([-3, -2, -1]))\n",
      "025 Template(Pos([1, 2, 3]))\n",
      "026 Template(Pos([-1]),Pos([1]))\n",
      "027 Template(Word([-1]))\n",
      "028 Template(Word([1]))\n",
      "029 Template(Word([-2]))\n",
      "030 Template(Word([2]))\n",
      "031 Template(Word([-2, -1]))\n",
      "032 Template(Word([1, 2]))\n",
      "033 Template(Word([-3, -2, -1]))\n",
      "034 Template(Word([1, 2, 3]))\n",
      "035 Template(Word([-1]),Word([1]))\n",
      "036 Template(Pos([-1]))\n",
      "037 Template(Pos([1]))\n",
      "038 Template(Pos([-2]))\n",
      "039 Template(Pos([2]))\n",
      "040 Template(Pos([-2, -1]))\n",
      "041 Template(Pos([1, 2]))\n",
      "042 Template(Pos([-3, -2, -1]))\n",
      "043 Template(Pos([1, 2, 3]))\n",
      "044 Template(Pos([-1]),Pos([1]))\n",
      "045 Template(Word([-1]))\n",
      "046 Template(Word([1]))\n",
      "047 Template(Word([-2]))\n",
      "048 Template(Word([2]))\n",
      "049 Template(Word([-2, -1]))\n",
      "050 Template(Word([1, 2]))\n",
      "051 Template(Word([-3, -2, -1]))\n",
      "052 Template(Word([1, 2, 3]))\n",
      "053 Template(Word([-1]),Word([1]))\n",
      "054 Template(Pos([-1]))\n",
      "055 Template(Pos([1]))\n",
      "056 Template(Pos([-2]))\n",
      "057 Template(Pos([2]))\n",
      "058 Template(Pos([-2, -1]))\n",
      "059 Template(Pos([1, 2]))\n",
      "060 Template(Pos([-3, -2, -1]))\n",
      "061 Template(Pos([1, 2, 3]))\n",
      "062 Template(Pos([-1]),Pos([1]))\n",
      "063 Template(Word([-1]))\n",
      "064 Template(Word([1]))\n",
      "065 Template(Word([-2]))\n",
      "066 Template(Word([2]))\n",
      "067 Template(Word([-2, -1]))\n",
      "068 Template(Word([1, 2]))\n",
      "069 Template(Word([-3, -2, -1]))\n",
      "070 Template(Word([1, 2, 3]))\n",
      "071 Template(Word([-1]),Word([1]))\n",
      "072 Template(Pos([-1]))\n",
      "073 Template(Pos([1]))\n",
      "074 Template(Pos([-2]))\n",
      "076 Template(Pos([-2, -1]))\n",
      "077 Template(Pos([1, 2]))\n",
      "078 Template(Pos([-3, -2, -1]))\n",
      "079 Template(Pos([1, 2, 3]))\n",
      "\n"
     ]
    }
   ],
   "source": [
    "brill_tagger.print_template_statistics()"
   ]
  },
  {
   "cell_type": "code",
   "execution_count": null,
   "metadata": {},
   "outputs": [],
   "source": []
  }
 ],
 "metadata": {
  "kernelspec": {
   "display_name": "Python 3",
   "language": "python",
   "name": "python3"
  },
  "language_info": {
   "codemirror_mode": {
    "name": "ipython",
    "version": 3
   },
   "file_extension": ".py",
   "mimetype": "text/x-python",
   "name": "python",
   "nbconvert_exporter": "python",
   "pygments_lexer": "ipython3",
   "version": "3.7.0"
  }
 },
 "nbformat": 4,
 "nbformat_minor": 4
}
