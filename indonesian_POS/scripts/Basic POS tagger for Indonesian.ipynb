{
 "cells": [
  {
   "cell_type": "markdown",
   "metadata": {},
   "source": [
    "Step one: Reformatting corpus data\n",
    "\n",
    "The data that I'll be using to train the taggers is in .conllu format, and the NLTK taggers require a different format, so the first step will be to change the training data into a usable format for the taggers. \n",
    "\n",
    "\n",
    "\n"
   ]
  },
  {
   "cell_type": "code",
   "execution_count": 6,
   "metadata": {},
   "outputs": [
    {
     "name": "stdout",
     "output_type": "stream",
     "text": [
      "# sent_id = train-s1\n",
      "# text = Sembungan adalah sebuah desa yang terletak di kecamatan Kejajar, kabupaten Wonosobo, Jawa Tengah, Indonesia.\n",
      "1\tSembungan\tsembungan\tPROPN\tX--\t_\t4\tnsubj\t_\tMorphInd=^sembungan<x>_X--$\n",
      "2\tadalah\tadalah\tAUX\tO--\t_\t4\tcop\t_\tMorphInd=^adalah<o>_O--$\n",
      "3\tsebuah\tsebuah\tDET\tB--\tPronType=Ind\t4\tdet\t_\tMorphInd=^sebuah<b>_B--$\n",
      "4\tdesa\tdesa\tNOUN\tNSD\tNumber=Sing\t0\troot\t_\tMorphInd=^desa<n>_NSD$\n",
      "5\tyang\tyang\tPRON\tS--\tPronType=Rel\t6\tnsubj:pass\t_\tMorphInd=^yang<s>_S--$\n",
      "6\tterletak\tterletak\tVERB\tVSP\tNumber=Sing|Voice=Pass\t4\tacl\t_\tMorphInd=^ter+letak<n>_VSP$\n",
      "7\tdi\tdi\tADP\tR--\t_\t8\tcase\t_\tMorphInd=^di<r>_R--$\n",
      "8\tkecamatan\tkecamatan\tNOUN\tNSD\tNumber=Sing\t6\tobl\t_\tMorphInd=^ke+camat<n>+an_NSD$\n",
      "9\tKejajar\tkejajar\tPROPN\tX--\t_\t8\tflat\t_\tSpaceAfter=No|MorphInd=^kejajar<x>_X--$\n",
      "10\t,\t,\tPUNCT\tZ--\t_\t8\tpunct\t_\tMorphInd=^,<z>_Z--$\n",
      "11\tkabupaten\tkabupaten\tNOUN\tNSD\tNumber=Sing\t8\tappos\t_\tMorphInd=^kabupaten<n>_NSD$\n",
      "12\tWonosobo\twonosobo\tPROPN\tX--\t_\t11\tflat\t_\tSpaceAfter=No|MorphInd=^wonosobo<x>_X--$\n",
      "13\t,\t,\tPUNCT\tZ--\t_\t11\tpunct\t_\tMorphInd=^,<z>_Z--$\n",
      "14\tJawa\tjawa\tPROPN\tNSD\tNumber=Sing\t11\tappos\t_\tMorphInd=^jawa<n>_NSD$\n",
      "15\tTengah\ttengah\tPROPN\tNSD\tNumber=Sing\t14\tamod\t_\tSpaceAfter=No|MorphInd=^tengah<n>_NSD$\n",
      "16\t,\t,\tPUNCT\tZ--\t_\t14\tpunct\t_\tMorphInd=^,<z>_Z--$\n",
      "17\tIndonesia\tindonesia\tPROPN\tNSD\tNumber=Sing\t14\tappos\t_\tSpaceAfter=No|MorphInd=^indonesia<n>_NSD$\n",
      "18\t.\t.\tPUNCT\tZ--\t_\t4\tpunct\t_\tMorphInd=^.<z>_Z--$\n",
      "\n",
      "\n"
     ]
    }
   ],
   "source": [
    "from conllu import parse\n",
    "\n",
    "file = open('../../UD_Indonesian-GSD/id_gsd-ud-train.conllu', 'r')\n",
    "f = file.read()\n",
    "file.close()\n",
    "\n",
    "print(f[:1393])\n"
   ]
  },
  {
   "cell_type": "markdown",
   "metadata": {},
   "source": [
    "\n",
    "Fortunately, there is already a tool for this: Emil Stenstrom's conllu parser (https://github.com/EmilStenstrom/conllu) will turn the .conllu data into a nested dictionary"
   ]
  },
  {
   "cell_type": "code",
   "execution_count": 7,
   "metadata": {},
   "outputs": [
    {
     "name": "stdout",
     "output_type": "stream",
     "text": [
      "[TokenList<Sembungan, adalah, sebuah, desa, yang, terletak, di, kecamatan, Kejajar, ,, kabupaten, Wonosobo, ,, Jawa, Tengah, ,, Indonesia, .>, TokenList<Sebuah, serangan, pengayauan, biasanya, terjadi, di, ladang, atau, dengan, membakar, sebuah, rumah, dan, memenggal, semua, penghuninya, ketika, mereka, melarikan, diri, .>, TokenList<Perkembangan, ini, diikuti, oleh, helm, Brodie, yang, dipakai, tentara, Imperium, Britania, dan, AS, ,, dan, pada, tahun, 1916, oleh, Stahlhelm, Jerman, dengan, perbaikan, desain, yang, masih, dipakai, sampai, sekarang, .>, TokenList<Dari, jarak, dekat, ,, dua, kapal, perusak, ,, Sterett, dan, O, ', Bannon, menembakkan, beberapa, kali, salvo, ke, bangunan, atas, kapal, Hiei, ., Sebelum, melarikan, diri, ke, dalam, kegelapan, ,, keduanya, mungkin, sempat, menyarangkan, satu, atau, dua, buah, torpedo, ke, bagian, lambung, kapal, Hiei, hingga, makin, memperparah, kerusakan, .>, TokenList<Angka, harapan, hidup, adalah, 73, ,, 4, tahun, ,, yakni, di, bawah, rerata, Uni, Eropa, .>]\n"
     ]
    }
   ],
   "source": [
    "sentences = parse(f)\n",
    "print(sentences[:5])"
   ]
  },
  {
   "cell_type": "code",
   "execution_count": 8,
   "metadata": {},
   "outputs": [
    {
     "name": "stdout",
     "output_type": "stream",
     "text": [
      "Token([('id', 1), ('form', 'Sembungan'), ('lemma', 'sembungan'), ('upos', 'PROPN'), ('xpos', 'X--'), ('feats', None), ('head', 4), ('deprel', 'nsubj'), ('deps', None), ('misc', OrderedDict([('MorphInd', '^sembungan<x>_X--$')]))])\n"
     ]
    }
   ],
   "source": [
    "print(sentences[0][0])"
   ]
  },
  {
   "cell_type": "code",
   "execution_count": 9,
   "metadata": {},
   "outputs": [
    {
     "name": "stdout",
     "output_type": "stream",
     "text": [
      "[[('Sembungan', 'PROPN'), ('adalah', 'AUX'), ('sebuah', 'DET'), ('desa', 'NOUN'), ('yang', 'PRON'), ('terletak', 'VERB'), ('di', 'ADP'), ('kecamatan', 'NOUN'), ('Kejajar', 'PROPN'), (',', 'PUNCT'), ('kabupaten', 'NOUN'), ('Wonosobo', 'PROPN'), (',', 'PUNCT'), ('Jawa', 'PROPN'), ('Tengah', 'PROPN'), (',', 'PUNCT'), ('Indonesia', 'PROPN'), ('.', 'PUNCT')], [('Sebuah', 'DET'), ('serangan', 'NOUN'), ('pengayauan', 'NOUN'), ('biasanya', 'ADV'), ('terjadi', 'VERB'), ('di', 'ADP'), ('ladang', 'NOUN'), ('atau', 'CCONJ'), ('dengan', 'ADP'), ('membakar', 'VERB'), ('sebuah', 'DET'), ('rumah', 'NOUN'), ('dan', 'CCONJ'), ('memenggal', 'VERB'), ('semua', 'DET'), ('penghuninya', 'NOUN'), ('ketika', 'SCONJ'), ('mereka', 'PRON'), ('melarikan', 'VERB'), ('diri', 'NOUN'), ('.', 'PUNCT')], [('Perkembangan', 'NOUN'), ('ini', 'DET'), ('diikuti', 'VERB'), ('oleh', 'ADP'), ('helm', 'NOUN'), ('Brodie', 'PROPN'), ('yang', 'PRON'), ('dipakai', 'VERB'), ('tentara', 'NOUN'), ('Imperium', 'PROPN'), ('Britania', 'PROPN'), ('dan', 'CCONJ'), ('AS', 'PROPN'), (',', 'PUNCT'), ('dan', 'CCONJ'), ('pada', 'ADP'), ('tahun', 'NOUN'), ('1916', 'NUM'), ('oleh', 'ADP'), ('Stahlhelm', 'PROPN'), ('Jerman', 'PROPN'), ('dengan', 'ADP'), ('perbaikan', 'NOUN'), ('desain', 'NOUN'), ('yang', 'PRON'), ('masih', 'ADV'), ('dipakai', 'VERB'), ('sampai', 'ADP'), ('sekarang', 'NOUN'), ('.', 'PUNCT')], [('Dari', 'ADP'), ('jarak', 'NOUN'), ('dekat', 'ADJ'), (',', 'PUNCT'), ('dua', 'NUM'), ('kapal', 'NOUN'), ('perusak', 'NOUN'), (',', 'PUNCT'), ('Sterett', 'PROPN'), ('dan', 'CCONJ'), ('O', 'PROPN'), (\"'\", 'PUNCT'), ('Bannon', 'PROPN'), ('menembakkan', 'VERB'), ('beberapa', 'DET'), ('kali', 'NOUN'), ('salvo', 'NOUN'), ('ke', 'ADP'), ('bangunan', 'NOUN'), ('atas', 'ADP'), ('kapal', 'NOUN'), ('Hiei', 'PROPN'), ('.', 'PUNCT'), ('Sebelum', 'SCONJ'), ('melarikan', 'VERB'), ('diri', 'NOUN'), ('ke', 'ADP'), ('dalam', 'ADP'), ('kegelapan', 'NOUN'), (',', 'PUNCT'), ('keduanya', 'NOUN'), ('mungkin', 'ADV'), ('sempat', 'ADV'), ('menyarangkan', 'VERB'), ('satu', 'NUM'), ('atau', 'CCONJ'), ('dua', 'NUM'), ('buah', 'NOUN'), ('torpedo', 'NOUN'), ('ke', 'ADP'), ('bagian', 'NOUN'), ('lambung', 'NOUN'), ('kapal', 'NOUN'), ('Hiei', 'PROPN'), ('hingga', 'ADP'), ('makin', 'ADV'), ('memperparah', 'VERB'), ('kerusakan', 'NOUN'), ('.', 'PUNCT')], [('Angka', 'PROPN'), ('harapan', 'NOUN'), ('hidup', 'NOUN'), ('adalah', 'AUX'), ('73', 'NUM'), (',', 'PUNCT'), ('4', 'NUM'), ('tahun', 'NOUN'), (',', 'PUNCT'), ('yakni', 'ADP'), ('di', 'ADP'), ('bawah', 'NOUN'), ('rerata', 'NOUN'), ('Uni', 'PROPN'), ('Eropa', 'PROPN'), ('.', 'PUNCT')]]\n"
     ]
    }
   ],
   "source": [
    "training_data = []\n",
    "\n",
    "for sentence in sentences:\n",
    "    tagged_sentence = []\n",
    "    for token in sentence:\n",
    "        tagged_sentence.append((token['form'],token['upos']))\n",
    "    training_data.append(tagged_sentence)\n",
    "    \n",
    "print(training_data[:5])"
   ]
  },
  {
   "cell_type": "code",
   "execution_count": 10,
   "metadata": {},
   "outputs": [],
   "source": [
    "test_file = open('../../UD_Indonesian-GSD/id_gsd-ud-test.conllu', 'r')\n",
    "test_f = test_file.read()\n",
    "test_file.close()\n",
    "\n",
    "test_sentences = parse(test_f)\n",
    "\n",
    "test_data = []\n",
    "\n",
    "for sentence in test_sentences:\n",
    "    tagged_sentence = []\n",
    "    for token in sentence:\n",
    "        tagged_sentence.append((token['form'],token['upos']))\n",
    "    test_data.append(tagged_sentence)"
   ]
  },
  {
   "cell_type": "code",
   "execution_count": 11,
   "metadata": {},
   "outputs": [
    {
     "name": "stdout",
     "output_type": "stream",
     "text": [
      "Unigram tagger accuracy: 0.8404074702886248\n"
     ]
    }
   ],
   "source": [
    "import nltk\n",
    "\n",
    "default_tagger = nltk.DefaultTagger('NOUN')\n",
    "\n",
    "unigram_tagger = nltk.UnigramTagger(training_data, backoff=default_tagger)\n",
    "unigram_tagger_accuracy = unigram_tagger.evaluate(test_data)\n",
    "\n",
    "print('Unigram tagger accuracy: ' + str(unigram_tagger_accuracy))"
   ]
  },
  {
   "cell_type": "code",
   "execution_count": 12,
   "metadata": {},
   "outputs": [
    {
     "name": "stdout",
     "output_type": "stream",
     "text": [
      "Bigram tagger accuracy: 0.8400679117147708\n"
     ]
    }
   ],
   "source": [
    "bigram_tagger = nltk.BigramTagger(training_data, backoff=unigram_tagger)\n",
    "bigram_tagger_accuracy = bigram_tagger.evaluate(test_data)\n",
    "\n",
    "print('Bigram tagger accuracy: ' + str(bigram_tagger_accuracy))\n",
    "\n"
   ]
  },
  {
   "cell_type": "code",
   "execution_count": 13,
   "metadata": {},
   "outputs": [
    {
     "name": "stdout",
     "output_type": "stream",
     "text": [
      "Bigram tagger accuracy: 0.8400679117147708\n"
     ]
    }
   ],
   "source": [
    "\n",
    "unigram_tagger = nltk.UnigramTagger(training_data, backoff=default_tagger)\n",
    "\n",
    "bigram_tagger_accuracy = bigram_tagger.evaluate(test_data)\n",
    "print('Bigram tagger accuracy: ' + str(bigram_tagger_accuracy))"
   ]
  },
  {
   "cell_type": "code",
   "execution_count": 77,
   "metadata": {},
   "outputs": [
    {
     "name": "stdout",
     "output_type": "stream",
     "text": [
      "'<kalimat id=1>\\nKera\\tNN\\nuntuk\\tSC\\namankan\\tVB\\npesta olahraga\\tNN\\n</kalimat>\\n<kalimat id=2>\\nPemerintah\\tNN'\n",
      "[[('Kera', 'NN'), ('untuk', 'SC'), ('amankan', 'VB'), ('pesta olahraga', 'NN')], [('Pemerintah', 'NNP'), ('kota', 'NNP'), ('Delhi', 'NNP'), ('mengerahkan', 'VB'), ('monyet', 'NN'), ('untuk', 'SC'), ('mengusir', 'VB'), ('monyet-monyet', 'NN'), ('lain', 'JJ'), ('yang', 'SC'), ('berbadan', 'VB'), ('lebih', 'RB'), ('kecil', 'JJ'), ('dari', 'IN'), ('arena', 'NN'), ('Pesta Olahraga', 'NNP'), ('Persemakmuran', 'NNP'), ('.', 'Z')], [('Beberapa', 'CD'), ('laporan', 'NN'), ('menyebutkan', 'VB'), ('setidaknya', 'RB'), ('10', 'CD'), ('monyet', 'NN'), ('ditempatkan', 'VB'), ('di', 'IN'), ('luar', 'NN'), ('arena', 'NN'), ('lomba', 'NN'), ('dan', 'CC'), ('pertandingan', 'NN'), ('di', 'IN'), ('ibukota', 'NNP'), ('India', 'NNP'), ('.', 'Z')], [('Pemkot', 'NNP'), ('Delhi', 'NNP'), ('memiliki', 'VB'), ('28', 'CD'), ('monyet', 'NN'), ('dan', 'CC'), ('berencana', 'VB'), ('mendatangkan', 'VB'), ('10', 'CD'), ('monyet', 'NN'), ('sejenis', 'NN'), ('dari', 'IN'), ('negara bagian', 'NNP'), ('Rajasthan', 'NNP'), ('.', 'Z')], [('Jumlah', 'NN'), ('monyet', 'NN'), ('di', 'IN'), ('ibukota', 'NNP'), ('India', 'NNP'), ('mencapai', 'VB'), ('ribuan', 'CD'), (',', 'Z'), ('sebagian besar', 'NN'), ('berada', 'VB'), ('di', 'IN'), ('kantor-kantor', 'NN'), ('pemerintah', 'NN'), ('dan', 'CC'), ('hewan', 'NN'), ('ini', 'PR'), ('dianggap', 'VB'), ('mengganggu', 'VB'), ('ketertiban', 'NN'), ('umum', 'JJ'), ('.', 'Z')], [('Jenis', 'NN'), ('monyet', 'NN'), ('yang', 'SC'), ('dikerahkan', 'VB'), ('pemkot', 'NN'), ('berbadan', 'VB'), ('besar', 'JJ'), (',', 'Z'), ('berekor', 'VB'), ('panjang', 'JJ'), (',', 'Z'), ('dan', 'CC'), ('memiliki', 'VB'), ('wajah', 'NN'), ('berwarna', 'VB'), ('hitam', 'JJ'), ('.', 'Z')], [('Monyet', 'NN'), ('ini', 'PR'), ('diikat', 'VB'), ('dengan', 'IN'), ('tali', 'NN'), ('panjang', 'JJ'), ('dan', 'CC'), ('pelatih', 'NN'), ('yang', 'SC'), ('mengawasi', 'VB'), ('mereka', 'PRP'), ('akan', 'MD'), ('melepas', 'VB'), ('tali', 'NN'), ('begitu', 'SC'), ('monyet-monyet', 'NN'), ('kecil', 'JJ'), ('lain', 'JJ'), ('mendekat', 'VB'), ('.', 'Z')], [('Kantor', 'NNP'), ('berita', 'NNP'), ('AFP', 'NNP'), ('melaporkan', 'VB'), ('stadion', 'NN'), ('tinju', 'NN'), ('dan', 'CC'), ('hockey', 'FW'), ('mendapatkan', 'VB'), ('perhatian', 'NN'), ('khusus', 'JJ'), ('karena', 'SC'), ('sering', 'RB'), ('diserbu', 'VB'), ('monyet', 'NN'), ('.', 'Z')], [('Monyet', 'NN'), ('besar', 'JJ'), ('akan', 'MD'), ('dikerahkan', 'VB'), ('di', 'IN'), ('dua', 'CD'), ('stadion', 'NN'), ('untuk', 'SC'), ('mengusir', 'VB'), ('serbuan', 'NN'), ('monyet', 'NN'), ('kecil', 'JJ')], [('\"', 'Z'), ('Monyet', 'NN'), ('besar', 'JJ'), ('akan', 'MD'), ('dikerahkan', 'VB'), ('di', 'IN'), ('dua', 'CD'), ('stadion', 'NN'), ('tersebut', 'PR'), ('untuk', 'SC'), ('mengusir', 'VB'), ('serbuan', 'NN'), ('monyet', 'NN'), ('kecil', 'JJ'), (',', 'Z'), ('\"', 'Z'), ('kata', 'VB'), ('Devender', 'NNP'), ('Prasad', 'NNP'), (',', 'Z'), ('pejabat', 'NN'), ('pemerintah', 'NNP'), ('kota', 'NNP'), ('Delhi', 'NNP'), ('kepada', 'IN'), ('kantor berita', 'NNP'), ('AFP', 'NNP'), ('.', 'Z')]]\n"
     ]
    }
   ],
   "source": [
    "import re\n",
    "file_g = open('../../idn-tagged-corpus/Indonesian_Manually_Tagged_Corpus_ID.tsv')\n",
    "g = file_g.read()\n",
    "file_g.close()\n",
    "\n",
    "print(repr(g[:100]))\n",
    "\n",
    "p = re.compile(r'<kalimat id=\\d+>((?:\\n.+\\t.+)+)\\n</kalimat>')\n",
    "\n",
    "raw_sentences = p.findall(g)\n",
    "\n",
    "\n",
    "sentences2 = []\n",
    "q = re.compile(r'(.+\\t.+)')\n",
    "for item in raw_sentences:\n",
    "    tagged_sentence = []\n",
    "    sep_sent = q.findall(item)\n",
    "    for pair in sep_sent:\n",
    "        sep_pair = pair.split('\\t')\n",
    "        tagged_sentence.append((sep_pair[0],sep_pair[1]))\n",
    "    sentences2.append(tagged_sentence)\n",
    "    \n",
    "print(sentences2[:10])\n",
    "    "
   ]
  },
  {
   "cell_type": "markdown",
   "metadata": {},
   "source": [
    "Tag Description Example\n",
    "CC Coordinating conjunction dan, tetapi, atau\n",
    "CD Cardinal number dua, juta, enam, 7916, sepertiga, 0,025, 0,525, banyak, kedua, ribuan, 2007, 25\n",
    "OD Ordinal number ketiga, ke-4, pertama\n",
    "DT Determiner / article Para, Sang, Si\n",
    "FW Foreign word climate change, terms and conditions\n",
    "IN Preposition dalam, dengan, di, ke, oleh, pada, untuk\n",
    "JJ Adjective bersih, panjang, hitam, lama, jauh, marah, suram, nasional, bulat\n",
    "MD Modal and auxiliary verb boleh, harus, sudah, mesti, perlu\n",
    "NEG Negation tidak, belum, jangan\n",
    "NN Noun monyet, bawah, sekarang, rupiah\n",
    "NNP Proper noun\n",
    "Boediono, Laut Jawa, Indonesia, India, Malaysia, Bank Mandiri, BBKP, Januari,\n",
    "Senin, Idul Fitri, Piala Dunia, Liga Primer, Lord of the Rings: The Return of the\n",
    "King\n",
    "NND Classifier, partitive, and measurement noun orang, ton, helai, lembar\n",
    "PR Demonstrative pronoun ini, itu, sini, situ\n",
    "PRP Personal pronoun saya, kami, kita, kamu, kalian, dia, mereka\n",
    "RB Adverb sangat, hanya, justru, niscaya, segera\n",
    "RP Particle pun, -lah, -kah\n",
    "SC Subordinating conjunction sejak, jika, seandainya, supaya, meski, seolah-olah, sebab, maka, tanpa, dengan,\n",
    "bahwa, yang, lebih ... daripada ..., semoga\n",
    "SYM Symbol IDR, +, %, @\n",
    "UH Interjection brengsek, oh, ooh, aduh, ayo, mari, hai\n",
    "VB Verb merancang, mengatur, pergi, bekerja, tertidur\n",
    "WH Question siapa, apa, mana, kenapa, kapan, di mana, bagaimana, berapa\n",
    "X Unknown statemen\n",
    "Z Punctuation \"...\", ?, . "
   ]
  },
  {
   "cell_type": "markdown",
   "metadata": {},
   "source": [
    "ADJ, ADP, ADV, AUX, CCONJ, DET, NOUN, NUM, PART, PRON, PROPN, PUNCT, SYM, VERB, X"
   ]
  },
  {
   "cell_type": "code",
   "execution_count": 85,
   "metadata": {},
   "outputs": [
    {
     "name": "stdout",
     "output_type": "stream",
     "text": [
      "1032\n",
      "697\n",
      "706\n",
      "371\n",
      "{'wangi', 'susah', 'ekslusif', 'sedih', 'putri', 'teliti', 'mencurigakan', 'memuaskan', 'persegi', 'seutuhnya', 'rimbun', 'bertahap', 'diam-diam', 'reveral', 'serumit', 'mundur', 'alternatif', 'abuan', 'berbobot', 'setim', 'jenis', 'barumu', 'ex', 'lembap', 'kurangnya', 'misionaris', 'curian', 'jengkel', 'seperjuangan', 'berisik', 'locally', 'tangkas', 'cilik', 'massif', 'mati', 'klayaban', 'lunas', 'universal', 'disekitarnya', 'wikinomics', 'eksotik', 'integral', 'banyaknya', 'manis', 'kebiruan', 'tercepat', 'lisan', 'sepsis', 'sekitarnya', 'emas', 'basah', 'murtad', 'bugar', 'numismatis', 'tersebar', 'molekul', 'sekaligus', 'normatif', 'positivis', 'visual', 'angkuh', 'ketakutan', 'esa', 'kecilnya', 'diam', 'spesialis', 'tertulis', 'genealogis', 'abadi', 'terburu', 'egois', 'piktoral', 'down', 'ekstrakurikuler', 'semangat', 'berkabung', 'berwibawa', 'temporal', 'a', 'modernis', 'kemerahan', 'analog', 'resminya', 'elastik', 'tiruan', 'tewas', 'harian', 'betina', 'leh', 'menyirip', 'awet', 'akademi', 'jingga', 'bertubuh', 'artifisial', 'bersinergi', 'licin', 'cara', 'sinonimous', 'sesat', 'antaragregat', 'dermawan', 'perusahaan', 'segan', 'setara', 'santun', 'matematik', 'doktoral', 'tengah', 'hari', 'endemik', 'gratis', 'mendadak', 'seksama', 'bawah', 'pucat', 'timbal', 'akademis', 'isotopik', 'asasi', 'saraf', 'hadir', 'energik', 'laris', 'terpilin', 'malam', 'kuantitatif', 'horisontal', 'luka', 'sekejap', 'capella', 'khususnya', 'ambigu', 'teritorial', 'implusif', 'kemolitotrof', 'efektir', 'humanis', 'dasarnya', 'lalim', 'relasional', 'terbaiknya', 'indah', 'sejuk', 'buru', 'kargo', 'sinkron', 'utamanya', 'kmoedi', 'penuhnya', 'matematis', 'akademik', 'terdekatnya', 'tindih', 'gaul', 'wireless', 'afektif', 'ternama', 'arbitrer', 'agraris', 'kagum', 'setengah', 'busuk', 'kebiru', 'pers', 'sub', 'spiral', 'pernis', 'kabel', 'sebagian', 'paksa', 'berbeda', 'konstankah', 'jasmaniah', 'kanonik', 'bergegas', 'barunya', 'benarkah', 'adipat', 'transmural', 'gitarnya', 'prasejarah', 'paleontologi', 'balas', 'lajang', 'salibis', 'projektif', 'tetap', 'darurat', 'jarang', 'mayoritas', 'front', 'memadai', 'berhuruf', 'hias', 'centil', 'khidmat', 'sabit', 'teguh', 'kebanyakan', 'glotal', 'valvular', 'charter', 'bakti', 'patik', 'ganda', 'ekstraterestrial', 'semifinal', 'menyerah', 'merespons', 'aktual', 'immaterial', 'assist', 'kimiawi', 'mitologis', 'umumnya', 'berlendir', 'fiksi', 'psikologi', 'sains', 'jomblo', 'bertekanan', 'lapuk', 'salahkah', 'korsel', 'serta', 'buras', 'nonformal', 'asam', 'selatan', 'berlangganan', 'religius', 'terkenal', 'termuda', 'hybrida', 'siap', 'fiksional', 'ibadah', 'politik', 'jelata', 'sebanyak', 'bersemangat', 'penunjang', 'jatuh', 'revisionis', 'horor', 'non', 'balik', 'amorf', 'bolak', 'berucap', 'setimnya', 'halus', 'tandang', 'ilmiah', 'miokard', 'pecah', 'depan', 'sewajarnya', 'nikmat', 'selam', 'elit', 'maksimumnya', 'sepihak', 'seusai', 'pencahar', 'digital', 'buka', 'bakal', 'dirintis', 'batu', 'berlaku', 'full', 'kwaat', 'professional', 'linguistik', 'mandalam', 'nonsulfur', 'bermoral', 'standar', 'sementara', 'baris', 'rangkap', 'pilihan', 'terpercaya', 'mendalam', 'terhuyung', 'berikutnya', 'pasca', 'polos', 'passing', 'kariogenik', 'menangis', 'kaki', 'oportunistik', 'menakjubkan', 'fiktif', 'kacaunya', 'sosialis', 'melankolis', 'standard', 'libur', 'sembarang', 'akur', 'cardiac', 'kerap', 'mendatang', 'harmonis', 'berlapis', 'masam', 'menyebar', 'lainnya', 'pusatnya', 'naik', 'bulan', 'aidoru', 'modal', 'lapis', 'subtropis', 'tambahan', 'surgawi', 'keramat', 'llayl', 'berendah', 'pria', 'kini', 'memperkuat', 'demisioner', 'serbaguna', 'sebenarnya', 'pimpinan', 'masing', 'berbulan', 'altar', 'terinspirasi', 'mengejarnya', 'sporty', 'terbalik', 'basa', 'small', 'biru', 'nitrat', 'heterotrofik', 'tertingginya', 'tragis', 'berhadap', 'beracun', 'andalannya', 'berarti', 'beragam', 'manual', 'acak', 'biologis', 'berbentuk', 'sekitar', 'dijahit', 'obyektif', 'material', 'hipnoterapis', 'tersendiri', 'harafiah', 'perintis', 'frekuentif', 'homeostatis', 'besaran', 'sehebat', 'kepik', 'putus', 'lampau', 'statistik', 'terkaitnya', 'hop', 'dekatnya', 'dasar', 'biruan', 'kepala', 'kreatif', 'filtering', 'ebenarnya', 'perempuan', 'pusat', 'berkumpul', 'native', 'akhir', 'kelaminnya', 'pertamanya', 'pribadi', 'linguis', 'keren', 'instrumental', 'mudanya', 'akut', 'sekelas', 'nonreligius', 'restriktif', 'pamungkas', 'termiskin', 'gencarnya', 'musuh', 'syah', 'spontan', 'mungkin', 'belah', 'seluruhnya', 'bergantian', 'leluhur', 'bersamaan', 'takjub', 'peluru', 'kaku', 'besarnya', 'aortik', 'menyenangkan', 'samar', 'telanjang', 'uronat', 'tumis', 'tandus', 'mendidih', 'berbatu', 'singkatan', 'kolot', 'retrovirus', 'antik', 'martil', 'lapar', 'tawar', 'teoretis', 'beruntung', 'popular', 'sabar', 'berbagi', 'rambat', 'terkuat', 'kosmologis', 'ungu', 'mufasir', 'menggantung', 'asetat', 'barat', 'bijaksana', 'otoriter', 'tenggelam', 'agregat', 'sungguh', 'merta', 'pemuda', 'sehari', 'keseharian', 'kelasnya', 'zirah', 'terpisah', 'berkala', 'kelayakan', 'cemburu', 'organisatoris', 'tropik', 'rasionalis', 'peyoratif', 'remake', 'bisnis', 'berakhirnya', 'sebelumnya', 'hidup', 'huyung', 'tertutup', 'dibakar', 'suka', 'teratur', 'cantik', 'pandai', 'etis', 'kognitif', 'ringankah', 'kurang', 'nila', 'seluler', 'mental', 'kronologis', 'nuklir', 'ballast', 'asal', 'pentingnya', 'online', 'terinci', 'keluar', 'trombogenik', 'invasif', 'rahasia', 'iparnya', 'ramping', 'hadapan', 'setinggi', 'kontemporer', 'bahari', 'kultural', 'vulnerable', 'hibrida', 'bercorak', 'selanjutnya', 'slow', 'spesial', 'pribumi', 'multi', 'setempat', 'invarian', 'diatomik', 'dekoratif', 'berpelindung', 'tomboy', 'malaikat', 'orientalis', 'tutup', 'saleh', 'mancanegara', 'filosofis', 'abu', 'keabu', 'favoritnya', 'membosankan', 'akrab', 'rohani', 'kehitaman', 'langsung', 'menarik', 'nonrinci', 'metal', 'innosens', 'dolcezza', 'birokratis', '~', 'perekat', 'samadi', 'liat', 'cemerlang', 'hemoragik', 'paruh', 'segmental', 'insulatif', 'bilas', 'kudus', 'gamblang', 'gnostik', 'radial', 'terbiasa', 'kabisat', 'miring', 'oranye', 'manusiawi', 'revolusioner', 'semisal', 'diplomatis', 'pertama', 'janggal', 'cetak', 'sopan', 'tipikal', 'sebenar', 'terlaris', 'ontologis', 'defenitif', 'beranting', 'tembaga', 'lazim', 'investigasi', 'rap', 'perdananya', 'mulai', 'habis', 'berdaya', 'dignifikan', 'bergaris', 'esensial', 'iduronat', 'jazirah', 'awal', 'autosomal', 'baiknya', 'melanggar', 'satu', 'glukuronat', 'iri', 'pasar', 'tawakal', 'sendirian', 'cuma-cuma', 'seni', 'albatros', 'sejajar', 'sarkoplasmik', 'sihirnya', 'teologis', 'pinggir', 'bekas', 'diagnostik', 'memanjang', 'licik', 'bercabang', 'ritual', 'komisaris', 'kelaparan', 'klastik', 'pembersih', 'didaerah', 'suburban', 'total', 'radioaktif', 'representatif', 'unggulan', 'aslinya', 'impor', 'merendahkan', 'tenggara', 'uncommon', 'perdana', 'tahunan', 'eksekutif', 'tersedia', 'selesai', 'silang', 'bertenaga', 'sesungguhnya', 'terlindung', 'embolik', 'cakap', 'magnetis', 'piruvat', 'karet', 'magisterium', 'eksperimental', 'latar', 'empiris', 'dulu', 'merintis', 'curvilinear', 'statis', 'kerja', 'seragam', 'intelek', 'ibis', 'kendur', 'mapan', 'efektifnya', 'low', 'langsing', 'rusaknya', 'malonat', 'alam', 'berminyak', 'dipecah', 'putihnya', 'jernih', 'lelaki', 'politeistik', 'berpasir', 'provinsional', 'personal', 'dibaptis', 'forensik', 'coklat', 'buatan', 'luhur', 'retrofleks', 'jual', 'lamanya', 'imut', 'terakhirnya', 'organik', 'kelirulah', 'luar', 'kafir', 'respons', 'siang', 'kental', 'kelam', 'sekular', 'traumatis', 'interseluler', 'hamil', 'kardiovaskular', 'searah', 'lucu', 'militer', 'bahagia', 'ulang', 'minatnya', 'senama', 'junior', 'sempat', 'rabinik', 'bonafide', 'informal', 'bertempat', 'tiba', 'laki-laki', 'geometris', 'tempuh', 'tunggalnya', 'rabu', 'membesar', 'ajaib', 'mantap', 'bergelombang', 'prediktif', 'halal', 'berang'}\n"
     ]
    }
   ],
   "source": [
    "adjUPOS = [ x.lower() for sentence in training_data for (x,pos) in sentence if pos == 'ADJ']\n",
    "adjXPOS = [ x.lower() for sentence in sentences2 for (x,pos) in sentence if pos == 'JJ']\n",
    "print(len(set(adjUPOS)))\n",
    "print(len(set(adjXPOS)))\n",
    "\n",
    "set1_adjs = set(adjUPOS) - set(adjXPOS)\n",
    "set2_adjs = set(adjXPOS) - set(adjUPOS)\n",
    "\n",
    "print(len(set1_adjs))\n",
    "print(len(set2_adjs))\n",
    "\n",
    "print(set1_adjs)"
   ]
  },
  {
   "cell_type": "code",
   "execution_count": 81,
   "metadata": {},
   "outputs": [
    {
     "name": "stdout",
     "output_type": "stream",
     "text": [
      "4477\n",
      "9940\n"
     ]
    }
   ],
   "source": [
    "print(len(training_data))\n",
    "print(len(sentences2))\n",
    "\n"
   ]
  },
  {
   "cell_type": "code",
   "execution_count": null,
   "metadata": {},
   "outputs": [],
   "source": []
  }
 ],
 "metadata": {
  "kernelspec": {
   "display_name": "Python 3",
   "language": "python",
   "name": "python3"
  },
  "language_info": {
   "codemirror_mode": {
    "name": "ipython",
    "version": 3
   },
   "file_extension": ".py",
   "mimetype": "text/x-python",
   "name": "python",
   "nbconvert_exporter": "python",
   "pygments_lexer": "ipython3",
   "version": "3.7.0"
  }
 },
 "nbformat": 4,
 "nbformat_minor": 4
}
