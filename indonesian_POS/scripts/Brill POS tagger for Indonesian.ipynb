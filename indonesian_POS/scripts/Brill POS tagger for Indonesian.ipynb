{
 "cells": [
  {
   "cell_type": "code",
   "execution_count": null,
   "metadata": {},
   "outputs": [],
   "source": [
    "from conllu import parse\n",
    "\n",
    "file = open('../../UD_Indonesian-GSD/id_gsd-ud-train.conllu', 'r')\n",
    "f = file.read()\n",
    "file.close()\n",
    "\n",
    "training_data = []\n",
    "\n",
    "sentences = parse(f)\n",
    "\n",
    "for sentence in sentences:\n",
    "    tagged_sentence = []\n",
    "    for token in sentence:\n",
    "        tagged_sentence.append((token['form'],token['upos']))\n",
    "    training_data.append(tagged_sentence)\n",
    "    \n",
    "    \n",
    "    \n",
    "test_file = open('../../UD_Indonesian-GSD/id_gsd-ud-test.conllu', 'r')\n",
    "test_f = test_file.read()\n",
    "test_file.close()\n",
    "\n",
    "test_sentences = parse(test_f)\n",
    "\n",
    "test_data = []\n",
    "\n",
    "for sentence in test_sentences:\n",
    "    tagged_sentence = []\n",
    "    for token in sentence:\n",
    "        tagged_sentence.append((token['form'],token['upos']))\n",
    "    test_data.append(tagged_sentence)"
   ]
  },
  {
   "cell_type": "code",
   "execution_count": null,
   "metadata": {},
   "outputs": [],
   "source": [
    "from nltk.tag import brill, brill_trainer\n",
    "\n",
    "def train_brill_tagger(initial_tagger, train_sents, **kwargs): \n",
    "    templates = [ \n",
    "            brill.Template(brill.Pos([-1])), \n",
    "            brill.Template(brill.Pos([1])), \n",
    "            brill.Template(brill.Pos([-2])), \n",
    "            brill.Template(brill.Pos([2])), \n",
    "            brill.Template(brill.Pos([-2, -1])), \n",
    "            brill.Template(brill.Pos([1, 2])), \n",
    "            brill.Template(brill.Pos([-3, -2, -1])), \n",
    "            brill.Template(brill.Pos([1, 2, 3])), \n",
    "            brill.Template(brill.Pos([-1]), brill.Pos([1])), \n",
    "            brill.Template(brill.Word([-1])), \n",
    "            brill.Template(brill.Word([1])), \n",
    "            brill.Template(brill.Word([-2])), \n",
    "            brill.Template(brill.Word([2])), \n",
    "            brill.Template(brill.Word([-2, -1])), \n",
    "            brill.Template(brill.Word([1, 2])), \n",
    "            brill.Template(brill.Word([-3, -2, -1])), \n",
    "            brill.Template(brill.Word([1, 2, 3])), \n",
    "            brill.Template(brill.Word([-1]), brill.Word([1])), \n",
    "            ] \n",
    "      \n",
    "    # Using BrillTaggerTrainer to train  \n",
    "    trainer = brill_trainer.BrillTaggerTrainer( \n",
    "            initial_tagger, templates, deterministic = True) \n",
    "      \n",
    "    return trainer.train(train_sents, **kwargs) \n"
   ]
  }
 ],
 "metadata": {
  "kernelspec": {
   "display_name": "Python 3",
   "language": "python",
   "name": "python3"
  },
  "language_info": {
   "codemirror_mode": {
    "name": "ipython",
    "version": 3
   },
   "file_extension": ".py",
   "mimetype": "text/x-python",
   "name": "python",
   "nbconvert_exporter": "python",
   "pygments_lexer": "ipython3",
   "version": "3.7.7"
  }
 },
 "nbformat": 4,
 "nbformat_minor": 4
}
